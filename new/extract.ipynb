{
 "cells": [
  {
   "cell_type": "code",
   "execution_count": 2,
   "metadata": {},
   "outputs": [
    {
     "data": {
      "text/plain": [
       "True"
      ]
     },
     "execution_count": 2,
     "metadata": {},
     "output_type": "execute_result"
    }
   ],
   "source": [
    "import pandas as pd\n",
    "from elasticsearch import Elasticsearch\n",
    "from elasticsearch.helpers import scan\n",
    "from dotenv import load_dotenv\n",
    "import os\n",
    "import functools\n",
    "\n",
    "load_dotenv()"
   ]
  },
  {
   "cell_type": "code",
   "execution_count": 3,
   "metadata": {},
   "outputs": [],
   "source": [
    "ELK_HOST = os.getenv(\"ELK_HOST\")\n",
    "\n",
    "es = Elasticsearch(hosts=[ELK_HOST], timeout=300, max_retries=10, retry_on_timeout=True, verify_certs=False, ssl_show_warn=False)"
   ]
  },
  {
   "cell_type": "code",
   "execution_count": 4,
   "metadata": {},
   "outputs": [],
   "source": [
    "index_kurento_names = [\n",
    "    \"loadtest-webrtc-2024-kurento-8p\"\n",
    "]\n",
    "\n",
    "index_list_names = index_kurento_names\n",
    "\n"
   ]
  },
  {
   "cell_type": "code",
   "execution_count": 7,
   "metadata": {},
   "outputs": [
    {
     "name": "stdout",
     "output_type": "stream",
     "text": [
      "2024-05-29T17:05:51.223381 - Processing loadtest-webrtc-2024-kurento-8p-browseremulator\n",
      "2024-05-29T17:05:55.792793 - Saved loadtest-webrtc-2024-kurento-8p-browseremulator.csv\n",
      "2024-05-29T17:05:55.792793 - Processing loadtest-webrtc-2024-kurento-8p-masternode\n",
      "2024-05-29T17:05:56.156112 - Saved loadtest-webrtc-2024-kurento-8p-masternode.csv\n",
      "2024-05-29T17:05:56.156112 - Processing loadtest-webrtc-2024-kurento-8p-medianode\n",
      "2024-05-29T17:05:56.502339 - Saved loadtest-webrtc-2024-kurento-8p-medianode.csv\n"
     ]
    }
   ],
   "source": [
    "from datetime import datetime\n",
    "node_types = [\"browseremulator\", \"masternode\", \"medianode\"]\n",
    "for i, index_name in enumerate(index_list_names):\n",
    "    current_time = pd.Timestamp.now().isoformat()\n",
    "    min = \"2024-05-29 12:11:32.986000+00:00\"\n",
    "    max = \"2024-05-29 12:13:51.929000+00:00\"\n",
    "    date_format = \"%Y-%m-%d %H:%M:%S.%f%z\"\n",
    "    min = datetime.strptime(min, date_format)\n",
    "    max = datetime.strptime(max, date_format)\n",
    "    for node_type in node_types:\n",
    "        query = {\n",
    "            \"query\": {\n",
    "                \"bool\": {\n",
    "                    \"must\": [\n",
    "                        {\"match\": {\"fields.node_role\": node_type}},\n",
    "                        {\n",
    "                            \"range\": {\n",
    "                                \"@timestamp\": {\n",
    "                                    \"lte\": max.isoformat(),\n",
    "                                    \"gte\": min.isoformat(),\n",
    "                                }\n",
    "                            }\n",
    "                        },\n",
    "                    ]\n",
    "                }\n",
    "            }\n",
    "        }\n",
    "        rel = scan(\n",
    "            client=es,\n",
    "            query=query,\n",
    "            scroll=\"8h\",\n",
    "            index=\"metric*\",\n",
    "            raise_on_error=True,\n",
    "            preserve_order=False,\n",
    "            clear_scroll=True,\n",
    "            request_timeout=300,\n",
    "        )\n",
    "\n",
    "        # We need only '_source', which has all the fields required.\n",
    "        # This elimantes the elasticsearch metdata like _id, _type, _index.\n",
    "        def generate_data():\n",
    "            i = 0\n",
    "            for hit in rel:\n",
    "                i += 1\n",
    "                print(\"Data read: \", i, end=\"\\r\")\n",
    "                data = hit[\"_source\"]\n",
    "                data_to_save = {\"@timestamp\": data[\"@timestamp\"]}\n",
    "                if \"system\" in data:\n",
    "                    data = data[\"system\"]\n",
    "                    if \"cpu\" in data:\n",
    "                        data_to_save[\"cpu\"] = data[\"cpu\"][\"total\"][\"norm\"][\"pct\"]\n",
    "                    if \"memory\" in data:\n",
    "                        data_to_save[\"memory\"] = data[\"memory\"][\"used\"][\"pct\"]\n",
    "                if \"cpu\" in data or \"memory\" in data:\n",
    "                    yield data_to_save\n",
    "\n",
    "        print(f\"{current_time} - Processing {index_name}-{node_type}\")\n",
    "        data_generator = generate_data()\n",
    "        # Create a dataframe.\n",
    "        df = pd.DataFrame(data_generator)\n",
    "        if not df.empty:\n",
    "            df = df.groupby(\"@timestamp\", as_index=False).mean()\n",
    "            df[\"@timestamp\"] = pd.to_datetime(df[\"@timestamp\"])\n",
    "            df.to_csv(\n",
    "                f\"dfs_final/{index_list_names[i]}-{node_type}.csv\", index=False\n",
    "            )\n",
    "            current_time = pd.Timestamp.now().isoformat()\n",
    "            print(f\"{current_time} - Saved {index_name}-{node_type}.csv\")"
   ]
  }
 ],
 "metadata": {
  "kernelspec": {
   "display_name": "Python 3",
   "language": "python",
   "name": "python3"
  },
  "language_info": {
   "codemirror_mode": {
    "name": "ipython",
    "version": 3
   },
   "file_extension": ".py",
   "mimetype": "text/x-python",
   "name": "python",
   "nbconvert_exporter": "python",
   "pygments_lexer": "ipython3",
   "version": "3.12.0"
  }
 },
 "nbformat": 4,
 "nbformat_minor": 2
}
