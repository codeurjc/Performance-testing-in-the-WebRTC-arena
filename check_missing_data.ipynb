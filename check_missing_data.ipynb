{
 "cells": [
  {
   "cell_type": "code",
   "execution_count": 16,
   "metadata": {},
   "outputs": [
    {
     "data": {
      "text/plain": [
       "True"
      ]
     },
     "execution_count": 16,
     "metadata": {},
     "output_type": "execute_result"
    }
   ],
   "source": [
    "import pandas as pd\n",
    "from elasticsearch import Elasticsearch\n",
    "from elasticsearch.helpers import scan\n",
    "from dotenv import load_dotenv\n",
    "import os\n",
    "\n",
    "load_dotenv()\n"
   ]
  },
  {
   "cell_type": "code",
   "execution_count": 17,
   "metadata": {},
   "outputs": [],
   "source": [
    "ELK_HOST = os.getenv(\"ELK_HOST\")\n",
    "\n",
    "es = Elasticsearch(hosts=[ELK_HOST], timeout=300, max_retries=10, retry_on_timeout=True, verify_certs=False, ssl_show_warn=False)"
   ]
  },
  {
   "cell_type": "code",
   "execution_count": 19,
   "metadata": {},
   "outputs": [
    {
     "data": {
      "text/plain": [
       "'No QoE data found for user: User2 in session: LoadTestSession6'"
      ]
     },
     "metadata": {},
     "output_type": "display_data"
    },
    {
     "data": {
      "text/plain": [
       "'No QoE data found for user: User1 in session: LoadTestSession7'"
      ]
     },
     "metadata": {},
     "output_type": "display_data"
    },
    {
     "data": {
      "text/plain": [
       "'No QoE data found for user: User1 in session: LoadTestSession1'"
      ]
     },
     "metadata": {},
     "output_type": "display_data"
    },
    {
     "data": {
      "text/plain": [
       "'No QoE data found for user: User1 in session: LoadTestSession4'"
      ]
     },
     "metadata": {},
     "output_type": "display_data"
    },
    {
     "data": {
      "text/plain": [
       "'No QoE data found for user: User2 in session: LoadTestSession1'"
      ]
     },
     "metadata": {},
     "output_type": "display_data"
    },
    {
     "data": {
      "text/plain": [
       "'No QoE data found for user: User2 in session: LoadTestSession5'"
      ]
     },
     "metadata": {},
     "output_type": "display_data"
    },
    {
     "data": {
      "text/plain": [
       "'No QoE data found for user: User1 in session: LoadTestSession3'"
      ]
     },
     "metadata": {},
     "output_type": "display_data"
    },
    {
     "data": {
      "text/plain": [
       "'No QoE data found for user: User1 in session: LoadTestSession5'"
      ]
     },
     "metadata": {},
     "output_type": "display_data"
    },
    {
     "data": {
      "text/plain": [
       "'No QoE data found for user: User2 in session: LoadTestSession3'"
      ]
     },
     "metadata": {},
     "output_type": "display_data"
    },
    {
     "data": {
      "text/plain": [
       "'No QoE data found for user: User1 in session: LoadTestSession2'"
      ]
     },
     "metadata": {},
     "output_type": "display_data"
    },
    {
     "data": {
      "text/plain": [
       "'No QoE data found for user: User2 in session: LoadTestSession4'"
      ]
     },
     "metadata": {},
     "output_type": "display_data"
    },
    {
     "data": {
      "text/plain": [
       "'No QoE data found for user: User2 in session: LoadTestSession2'"
      ]
     },
     "metadata": {},
     "output_type": "display_data"
    },
    {
     "data": {
      "text/plain": [
       "'No QoE data found for user: User1 in session: LoadTestSession6'"
      ]
     },
     "metadata": {},
     "output_type": "display_data"
    },
    {
     "data": {
      "text/plain": [
       "'No QoE data found for user: User1 in session: LoadTestSession11'"
      ]
     },
     "metadata": {},
     "output_type": "display_data"
    },
    {
     "data": {
      "text/plain": [
       "'No QoE data found for user: User2 in session: LoadTestSession13'"
      ]
     },
     "metadata": {},
     "output_type": "display_data"
    },
    {
     "data": {
      "text/plain": [
       "'No QoE data found for user: User1 in session: LoadTestSession10'"
      ]
     },
     "metadata": {},
     "output_type": "display_data"
    },
    {
     "data": {
      "text/plain": [
       "'No QoE data found for user: User1 in session: LoadTestSession9'"
      ]
     },
     "metadata": {},
     "output_type": "display_data"
    },
    {
     "data": {
      "text/plain": [
       "'No QoE data found for user: User2 in session: LoadTestSession7'"
      ]
     },
     "metadata": {},
     "output_type": "display_data"
    },
    {
     "data": {
      "text/plain": [
       "'No QoE data found for user: User1 in session: LoadTestSession13'"
      ]
     },
     "metadata": {},
     "output_type": "display_data"
    },
    {
     "data": {
      "text/plain": [
       "'No QoE data found for user: User2 in session: LoadTestSession9'"
      ]
     },
     "metadata": {},
     "output_type": "display_data"
    },
    {
     "data": {
      "text/plain": [
       "'No QoE data found for user: User2 in session: LoadTestSession11'"
      ]
     },
     "metadata": {},
     "output_type": "display_data"
    },
    {
     "data": {
      "text/plain": [
       "'No QoE data found for user: User2 in session: LoadTestSession12'"
      ]
     },
     "metadata": {},
     "output_type": "display_data"
    },
    {
     "data": {
      "text/plain": [
       "'No QoE data found for user: User1 in session: LoadTestSession8'"
      ]
     },
     "metadata": {},
     "output_type": "display_data"
    },
    {
     "data": {
      "text/plain": [
       "'No QoE data found for user: User1 in session: LoadTestSession12'"
      ]
     },
     "metadata": {},
     "output_type": "display_data"
    },
    {
     "data": {
      "text/plain": [
       "'No QoE data found for user: User2 in session: LoadTestSession8'"
      ]
     },
     "metadata": {},
     "output_type": "display_data"
    },
    {
     "data": {
      "text/plain": [
       "'No QoE data found for user: User2 in session: LoadTestSession10'"
      ]
     },
     "metadata": {},
     "output_type": "display_data"
    },
    {
     "data": {
      "text/plain": [
       "'No QoE data found for user: User1 in session: LoadTestSession17'"
      ]
     },
     "metadata": {},
     "output_type": "display_data"
    },
    {
     "data": {
      "text/plain": [
       "'No QoE data found for user: User2 in session: LoadTestSession15'"
      ]
     },
     "metadata": {},
     "output_type": "display_data"
    },
    {
     "data": {
      "text/plain": [
       "'No QoE data found for user: User2 in session: LoadTestSession16'"
      ]
     },
     "metadata": {},
     "output_type": "display_data"
    },
    {
     "data": {
      "text/plain": [
       "'No QoE data found for user: User1 in session: LoadTestSession19'"
      ]
     },
     "metadata": {},
     "output_type": "display_data"
    },
    {
     "data": {
      "text/plain": [
       "'No QoE data found for user: User1 in session: LoadTestSession14'"
      ]
     },
     "metadata": {},
     "output_type": "display_data"
    },
    {
     "data": {
      "text/plain": [
       "'No QoE data found for user: User1 in session: LoadTestSession15'"
      ]
     },
     "metadata": {},
     "output_type": "display_data"
    },
    {
     "data": {
      "text/plain": [
       "'No QoE data found for user: User2 in session: LoadTestSession19'"
      ]
     },
     "metadata": {},
     "output_type": "display_data"
    },
    {
     "data": {
      "text/plain": [
       "'No QoE data found for user: User2 in session: LoadTestSession18'"
      ]
     },
     "metadata": {},
     "output_type": "display_data"
    },
    {
     "data": {
      "text/plain": [
       "'No QoE data found for user: User1 in session: LoadTestSession18'"
      ]
     },
     "metadata": {},
     "output_type": "display_data"
    },
    {
     "data": {
      "text/plain": [
       "'No QoE data found for user: User1 in session: LoadTestSession16'"
      ]
     },
     "metadata": {},
     "output_type": "display_data"
    },
    {
     "data": {
      "text/plain": [
       "'No QoE data found for user: User1 in session: LoadTestSession20'"
      ]
     },
     "metadata": {},
     "output_type": "display_data"
    },
    {
     "data": {
      "text/plain": [
       "'No QoE data found for user: User2 in session: LoadTestSession17'"
      ]
     },
     "metadata": {},
     "output_type": "display_data"
    },
    {
     "data": {
      "text/plain": [
       "'No QoE data found for user: User2 in session: LoadTestSession14'"
      ]
     },
     "metadata": {},
     "output_type": "display_data"
    },
    {
     "data": {
      "text/plain": [
       "'No QoE data found for user: User1 in session: LoadTestSession25'"
      ]
     },
     "metadata": {},
     "output_type": "display_data"
    },
    {
     "data": {
      "text/plain": [
       "'No QoE data found for user: User1 in session: LoadTestSession23'"
      ]
     },
     "metadata": {},
     "output_type": "display_data"
    },
    {
     "data": {
      "text/plain": [
       "'No QoE data found for user: User1 in session: LoadTestSession22'"
      ]
     },
     "metadata": {},
     "output_type": "display_data"
    },
    {
     "data": {
      "text/plain": [
       "'No QoE data found for user: User2 in session: LoadTestSession26'"
      ]
     },
     "metadata": {},
     "output_type": "display_data"
    },
    {
     "data": {
      "text/plain": [
       "'No QoE data found for user: User2 in session: LoadTestSession24'"
      ]
     },
     "metadata": {},
     "output_type": "display_data"
    },
    {
     "data": {
      "text/plain": [
       "'No QoE data found for user: User2 in session: LoadTestSession25'"
      ]
     },
     "metadata": {},
     "output_type": "display_data"
    },
    {
     "data": {
      "text/plain": [
       "'No QoE data found for user: User1 in session: LoadTestSession24'"
      ]
     },
     "metadata": {},
     "output_type": "display_data"
    },
    {
     "data": {
      "text/plain": [
       "'No QoE data found for user: User1 in session: LoadTestSession26'"
      ]
     },
     "metadata": {},
     "output_type": "display_data"
    },
    {
     "data": {
      "text/plain": [
       "'No QoE data found for user: User2 in session: LoadTestSession21'"
      ]
     },
     "metadata": {},
     "output_type": "display_data"
    },
    {
     "data": {
      "text/plain": [
       "'No QoE data found for user: User2 in session: LoadTestSession20'"
      ]
     },
     "metadata": {},
     "output_type": "display_data"
    },
    {
     "data": {
      "text/plain": [
       "'No QoE data found for user: User2 in session: LoadTestSession23'"
      ]
     },
     "metadata": {},
     "output_type": "display_data"
    },
    {
     "data": {
      "text/plain": [
       "'No QoE data found for user: User2 in session: LoadTestSession22'"
      ]
     },
     "metadata": {},
     "output_type": "display_data"
    },
    {
     "data": {
      "text/plain": [
       "'No QoE data found for user: User1 in session: LoadTestSession21'"
      ]
     },
     "metadata": {},
     "output_type": "display_data"
    },
    {
     "data": {
      "text/plain": [
       "'No QoE data found for user: User1 in session: LoadTestSession31'"
      ]
     },
     "metadata": {},
     "output_type": "display_data"
    }
   ],
   "source": [
    "index = \"loadtest-webrtc-stats-merged-2\"\n",
    "time_start = \"2023-08-01T13:48:32\"\n",
    "time_end = \"2023-08-01T13:55:57\"\n",
    "\n",
    "\n",
    "def generate_qoe_data_from_elastic(index, session, userFrom, min, max):\n",
    "    # query: The elasticsearch query.\n",
    "    query = {\n",
    "        \"query\": {\n",
    "            \"bool\": {\n",
    "                \"must\": [\n",
    "                    {\"exists\": {\"field\": \"vmaf\"}},\n",
    "                    {\n",
    "                        \"range\": {\n",
    "                            \"@timestamp\": {\n",
    "                                \"gte\": min,\n",
    "                                \"lte\": max,\n",
    "                            }\n",
    "                        }\n",
    "                    },\n",
    "                    {\"match\": {\"userFrom\": userFrom}},\n",
    "                    {\"match\": {\"session\": session}},\n",
    "                ]\n",
    "            }\n",
    "        }\n",
    "    }\n",
    "    # Scan function to get all the data.\n",
    "    rel = scan(\n",
    "        client=es,\n",
    "        query=query,\n",
    "        scroll=\"1m\",\n",
    "        index=index,\n",
    "        raise_on_error=True,\n",
    "        preserve_order=False,\n",
    "        clear_scroll=True,\n",
    "    )\n",
    "    # We need only '_source', which has all the fields required.\n",
    "    # This elimantes the elasticsearch metdata like _id, _type, _index.\n",
    "    for hit in rel:\n",
    "        yield hit[\"_source\"]\n",
    "\n",
    "def gemerate_user_in(index, session, user, min, max):\n",
    "    query = {\n",
    "        \"query\": {\n",
    "            \"bool\": {\n",
    "                \"must\": [\n",
    "                    {\n",
    "                        \"range\": {\n",
    "                            \"@timestamp\": {\n",
    "                                \"gte\": min,\n",
    "                                \"lte\": max,\n",
    "                            }\n",
    "                        }\n",
    "                    },\n",
    "                    {\"match\": {\"new_participant_id\": user}},\n",
    "                    {\"match\": {\"new_participant_session\": session}},\n",
    "                ]\n",
    "            }\n",
    "        }\n",
    "    }\n",
    "    # Scan function to get all the data.\n",
    "    rel = scan(\n",
    "        client=es,\n",
    "        query=query,\n",
    "        scroll=\"1m\",\n",
    "        index=index,\n",
    "        raise_on_error=True,\n",
    "        preserve_order=False,\n",
    "        clear_scroll=True,\n",
    "    )\n",
    "    # We need only '_source', which has all the fields required.\n",
    "    # This elimantes the elasticsearch metdata like _id, _type, _index.\n",
    "    for hit in rel:\n",
    "        yield hit[\"_source\"]\n",
    "# open text file users.log and read line by line\n",
    "times = []\n",
    "with open(\"users.log\", \"r\") as f:\n",
    "    users = f.readlines()\n",
    "    # parse line, separating by |\n",
    "    for user in users:\n",
    "        user = user.strip().split(\"|\")\n",
    "        user_time = user[0].strip()\n",
    "        user_session = user[1].strip()\n",
    "        user_id = user[2].strip()\n",
    "        df = pd.DataFrame(generate_qoe_data_from_elastic(index, user_session, user_id, time_start, time_end))\n",
    "        if df.empty:\n",
    "            display(\"No QoE data found for user: \" + user_id + \" in session: \" + user_session)\n",
    "            # find file in qoe_files/ with user_id and session like v-LoadTestSession1-User1-User2_cuts.json\n",
    "            # if not found, continue\n",
    "\n",
    "            # convert format to timestamp Tue Aug 01 13:48:59 CEST 2023\n",
    "            user_time = pd.to_datetime(\n",
    "                user_time, format=\"%a %b %d %H:%M:%S CEST %Y\"\n",
    "            ).tz_localize(\"Europe/Madrid\")\n"
   ]
  }
 ],
 "metadata": {
  "kernelspec": {
   "display_name": "Python 3",
   "language": "python",
   "name": "python3"
  },
  "language_info": {
   "codemirror_mode": {
    "name": "ipython",
    "version": 3
   },
   "file_extension": ".py",
   "mimetype": "text/x-python",
   "name": "python",
   "nbconvert_exporter": "python",
   "pygments_lexer": "ipython3",
   "version": "3.12.0"
  }
 },
 "nbformat": 4,
 "nbformat_minor": 2
}
