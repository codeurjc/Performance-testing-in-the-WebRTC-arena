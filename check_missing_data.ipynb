{
 "cells": [
  {
   "cell_type": "code",
   "execution_count": 1,
   "metadata": {},
   "outputs": [
    {
     "data": {
      "text/plain": [
       "True"
      ]
     },
     "execution_count": 1,
     "metadata": {},
     "output_type": "execute_result"
    }
   ],
   "source": [
    "import pandas as pd\n",
    "from elasticsearch import Elasticsearch\n",
    "from elasticsearch.helpers import scan\n",
    "from dotenv import load_dotenv\n",
    "import os\n",
    "\n",
    "load_dotenv()\n"
   ]
  },
  {
   "cell_type": "code",
   "execution_count": 2,
   "metadata": {},
   "outputs": [],
   "source": [
    "ELK_HOST = os.getenv(\"ELK_HOST\")\n",
    "\n",
    "es = Elasticsearch(hosts=[ELK_HOST], timeout=300, max_retries=10, retry_on_timeout=True, verify_certs=False, ssl_show_warn=False)"
   ]
  },
  {
   "cell_type": "code",
   "execution_count": 11,
   "metadata": {},
   "outputs": [],
   "source": [
    "index = \"loadtest-webrtc-stats-1712681258923\"\n",
    "\n",
    "\n",
    "def find_user_data(index):\n",
    "    # query: The elasticsearch query.\n",
    "    query = {\n",
    "        \"query\": {\n",
    "            \"bool\": {\n",
    "                \"must\": [\n",
    "                    {\"exists\": {\"field\": \"new_participant_id\"}},\n",
    "                    {\"exists\": {\"field\": \"new_participant_session\"}}\n",
    "                ]\n",
    "            }\n",
    "        }\n",
    "    }\n",
    "    # Scan function to get all the data.\n",
    "    rel = scan(\n",
    "        client=es,\n",
    "        query=query,\n",
    "        scroll=\"1m\",\n",
    "        index=index,\n",
    "        raise_on_error=True,\n",
    "        preserve_order=False,\n",
    "        clear_scroll=True,\n",
    "    )\n",
    "    # We need only '_source', which has all the fields required.\n",
    "    # This elimantes the elasticsearch metdata like _id, _type, _index.\n",
    "    for hit in rel:\n",
    "        yield hit[\"_source\"]\n",
    "\n",
    "# open text file users.log and read line by line\n",
    "times = []\n",
    "df = pd.DataFrame(find_user_data(index))\n",
    "with open(\"users.log\", \"r\") as f:\n",
    "    users = f.readlines()\n",
    "    # parse line, separating by |\n",
    "    for user in users:\n",
    "        user = user.strip().split(\"|\")\n",
    "        user_time = user[0].strip()\n",
    "        user_session = user[1].strip()\n",
    "        user_id = user[2].strip()\n",
    "        # filter df by user_id and user_session\n",
    "        df_filtered = df[(df[\"new_participant_id\"] == user_id) & (df[\"new_participant_session\"] == user_session)]\n",
    "        if df_filtered.empty:\n",
    "            # find file in qoe_files/ with user_id and session like v-LoadTestSession1-User1-User2_cuts.json\n",
    "            # if not found, continue\n",
    "\n",
    "            # convert format to timestamp Tue Aug 01 13:48:59 CEST 2023\n",
    "            user_time = pd.to_datetime(\n",
    "                user_time, format=\"%a %b %d %H:%M:%S CEST %Y\"\n",
    "            ).tz_localize(\"Europe/Madrid\")\n",
    "            new_data = {\n",
    "                \"new_participant_id\": user_id,\n",
    "                \"new_participant_session\": user_session,\n",
    "                \"@timestamp\": user_time.tz_convert(\"UTC\"),\n",
    "            }\n",
    "            # add new_data to ELK\n",
    "            es.index(index=index, body=new_data)\n"
   ]
  }
 ],
 "metadata": {
  "kernelspec": {
   "display_name": "Python 3",
   "language": "python",
   "name": "python3"
  },
  "language_info": {
   "codemirror_mode": {
    "name": "ipython",
    "version": 3
   },
   "file_extension": ".py",
   "mimetype": "text/x-python",
   "name": "python",
   "nbconvert_exporter": "python",
   "pygments_lexer": "ipython3",
   "version": "3.12.0"
  }
 },
 "nbformat": 4,
 "nbformat_minor": 2
}
