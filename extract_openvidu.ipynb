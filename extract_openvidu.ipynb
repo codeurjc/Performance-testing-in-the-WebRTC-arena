{
 "cells": [
  {
   "cell_type": "code",
   "execution_count": 35,
   "metadata": {},
   "outputs": [
    {
     "data": {
      "text/plain": [
       "True"
      ]
     },
     "execution_count": 35,
     "metadata": {},
     "output_type": "execute_result"
    }
   ],
   "source": [
    "import pandas as pd\n",
    "from elasticsearch import Elasticsearch\n",
    "from elasticsearch.helpers import scan\n",
    "from dotenv import load_dotenv\n",
    "import os\n",
    "\n",
    "load_dotenv()"
   ]
  },
  {
   "cell_type": "code",
   "execution_count": 36,
   "metadata": {},
   "outputs": [],
   "source": [
    "ELK_HOST = os.getenv(\"ELK_HOST\")\n",
    "\n",
    "es = Elasticsearch(hosts=[ELK_HOST], timeout=300, max_retries=10, retry_on_timeout=True, verify_certs=False, ssl_show_warn=False)"
   ]
  },
  {
   "cell_type": "code",
   "execution_count": 37,
   "metadata": {},
   "outputs": [],
   "source": [
    "start_end_times = pd.read_json(\"dfs_final/start-end-times.json\", orient=\"index\")\n",
    "start_end_times[\"from\"] = pd.to_datetime(\n",
    "    start_end_times[\"from\"], format=\"ISO8601\", utc=True\n",
    ")\n",
    "start_end_times[\"to\"] = pd.to_datetime(\n",
    "    start_end_times[\"to\"], format=\"ISO8601\", utc=True\n",
    ")\n",
    "\n",
    "\n",
    "def get_max_time(index):\n",
    "    # tmp_serie = pd.Series(\n",
    "    #     [df_index[\"@timestamp\"].max(), start_end_times.loc[index, \"to\"]]\n",
    "    # )\n",
    "    # return tmp_serie.max()\n",
    "    return start_end_times.loc[index, \"to\"]\n",
    "\n",
    "\n",
    "def get_min_time(index):\n",
    "    # tmp_serie = pd.Series(\n",
    "    #     [df_index[\"@timestamp\"].min(), start_end_times.loc[index, \"from\"]]\n",
    "    # )\n",
    "    # return tmp_serie.min()\n",
    "    return start_end_times.loc[index, \"from\"]\n",
    "\n",
    "index_kurento_names = [\n",
    "    \"loadtest-webrtc-final-kurento-2p-t3medium-retry\",\n",
    "    \"loadtest-webrtc-final-kurento-8p-t3medium-retry\",\n",
    "    \"loadtest-webrtc-final-kurento-3p-10s-t3medium-retry\",\n",
    "    \"loadtest-webrtc-final-kurento-3p-40s-t3medium-retry\"\n",
    "]\n",
    "\n",
    "index_mediasoup_names = [\n",
    "    # \"loadtest-webrtc-final-mediasoup-2p-t3medium\",\n",
    "    # \"loadtest-webrtc-final-mediasoup-2p-t3medium-2\",\n",
    "    # \"loadtest-webrtc-final-mediasoup-2p-t3medium-wait\",\n",
    "    # \"loadtest-webrtc-final-mediasoup-2p-t3medium-retry\",\n",
    "    # \"loadtest-webrtc-final-mediasoup-5p-t3medium\",\n",
    "    # \"loadtest-webrtc-final-mediasoup-5p-t3medium-2\",\n",
    "    # \"loadtest-webrtc-final-mediasoup-5p-t3medium-wait\",\n",
    "    # \"loadtest-webrtc-final-mediasoup-5p-t3medium-retry\",\n",
    "    # \"loadtest-webrtc-final-mediasoup-8p-t3medium\",\n",
    "    # \"loadtest-webrtc-final-mediasoup-8p-t3medium-2\",\n",
    "    # \"loadtest-webrtc-final-mediasoup-8p-t3medium-wait\",\n",
    "    # \"loadtest-webrtc-final-mediasoup-8p-t3medium-retry\",\n",
    "    # \"loadtest-webrtc-final-mediasoup-3p-10s-t3medium\",\n",
    "    # \"loadtest-webrtc-final-mediasoup-3p-10s-t3medium-2\",\n",
    "    # \"loadtest-webrtc-final-mediasoup-3p-10s-t3medium-wait\",\n",
    "    # \"loadtest-webrtc-final-mediasoup-3p-10s-t3medium-retry\",\n",
    "    # \"loadtest-webrtc-final-mediasoup-3p-20s-t3medium\",\n",
    "    # \"loadtest-webrtc-final-mediasoup-3p-20s-t3medium-2\",\n",
    "    # \"loadtest-webrtc-final-mediasoup-3p-20s-t3medium-wait\",\n",
    "    # \"loadtest-webrtc-final-mediasoup-3p-20s-t3medium-retry\",\n",
    "    # \"loadtest-webrtc-final-mediasoup-3p-40s-t3medium\",\n",
    "    # \"loadtest-webrtc-final-mediasoup-3p-40s-t3medium-2\",\n",
    "    # \"loadtest-webrtc-final-mediasoup-3p-40s-t3medium-wait\",\n",
    "    # \"loadtest-webrtc-final-mediasoup-3p-40s-t3medium-retry\",\n",
    "    # \"loadtest-webrtc-final-mediasoup-2p-t3medium-retry-2\"\n",
    "]\n",
    "\n",
    "index_list_names = index_kurento_names + index_mediasoup_names"
   ]
  },
  {
   "cell_type": "code",
   "execution_count": 38,
   "metadata": {},
   "outputs": [],
   "source": [
    "def generate_qoe_data_from_elastic(index_name):\n",
    "    min = int(get_min_time(index_name).timestamp())*1000\n",
    "    max = int(get_max_time(index_name).timestamp())*1000\n",
    "    # query: The elasticsearch query.\n",
    "    query = {\n",
    "        \"query\": {\n",
    "            \"bool\": {\n",
    "                \"must\": [\n",
    "                    {\"match\": {\"elastic_type\": \"webrtcStats\"}},\n",
    "                    {\"range\": {\"timestamp\": {\"gte\": min, \"lte\": max}}},\n",
    "                ]\n",
    "            }\n",
    "        }\n",
    "    }\n",
    "    # Scan function to get all the data.\n",
    "    rel = scan(\n",
    "        client=es,\n",
    "        query=query,\n",
    "        scroll=\"1m\",\n",
    "        index=\"openvidu\",\n",
    "        raise_on_error=True,\n",
    "        preserve_order=False,\n",
    "        clear_scroll=True,\n",
    "    )\n",
    "    # We need only '_source', which has all the fields required.\n",
    "    # This elimantes the elasticsearch metdata like _id, _type, _index.\n",
    "    for hit in rel:\n",
    "        yield hit[\"_source\"]\n",
    "\n",
    "df_generators = (\n",
    "    pd.DataFrame(generate_qoe_data_from_elastic(index)) for index in index_list_names\n",
    ")\n",
    "\n",
    "df_list = list(df_generators)"
   ]
  },
  {
   "cell_type": "code",
   "execution_count": 40,
   "metadata": {},
   "outputs": [],
   "source": [
    "for i, df_user in enumerate(df_list):\n",
    "    if not df_user.empty:\n",
    "        df_user[\"timestamp\"] = pd.to_datetime(df_user[\"timestamp\"], unit=\"ms\", utc=True)\n",
    "        df_user.to_csv(f\"dfs_final/{index_list_names[i]}-mediaserver-stats.csv\", index=False)"
   ]
  },
  {
   "cell_type": "code",
   "execution_count": null,
   "metadata": {},
   "outputs": [],
   "source": []
  }
 ],
 "metadata": {
  "kernelspec": {
   "display_name": "Python 3",
   "language": "python",
   "name": "python3"
  },
  "language_info": {
   "codemirror_mode": {
    "name": "ipython",
    "version": 3
   },
   "file_extension": ".py",
   "mimetype": "text/x-python",
   "name": "python",
   "nbconvert_exporter": "python",
   "pygments_lexer": "ipython3",
   "version": "3.12.0"
  }
 },
 "nbformat": 4,
 "nbformat_minor": 2
}
