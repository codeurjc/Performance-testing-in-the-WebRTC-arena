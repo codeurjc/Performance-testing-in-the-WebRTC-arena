{
 "cells": [
  {
   "cell_type": "code",
   "execution_count": 1,
   "metadata": {},
   "outputs": [],
   "source": [
    "import pandas as pd\n",
    "\n",
    "index_lk = [\n",
    "    \"loadtest-webrtc-stats-1705318060009\",  # 2p retry\n",
    "    \"loadtest-webrtc-stats-1704977399068\",  # 8p retry\n",
    "    \"loadtest-webrtc-stats-1704970758533\",  # 3p 10 s retry\n",
    "    \"loadtest-webrtc-stats-1704987214896\",  # 3p 40 s retry\n",
    "]\n",
    "\n",
    "index_list = index_lk\n",
    "\n",
    "index_lk_names = [\n",
    "    \"loadtest-webrtc-final-livekit-2p-t3medium-retry\",\n",
    "    \"loadtest-webrtc-final-livekit-8p-t3medium-retry\",\n",
    "    \"loadtest-webrtc-final-livekit-3p-10s-t3medium-retry\",\n",
    "    \"loadtest-webrtc-final-livekit-3p-40s-t3medium-retry\",\n",
    "]\n",
    "\n",
    "index_list_names = index_lk_names\n",
    "\n",
    "for i, index in enumerate(index_list):\n",
    "    df = pd.read_csv(f\"dfs_final/{index_list_names[i]}.csv\")\n",
    "    df_users = pd.read_csv(f\"dfs_final/{index_list_names[i]}-user-join.csv\")\n",
    "\n",
    "    df_users[\"@timestamp\"] = pd.to_datetime(df_users[\"@timestamp\"])\n",
    "    df_users = df_users.sort_values(by=\"@timestamp\")\n",
    "    df_users.to_csv(f\"dfs_final/{index_list_names[i]}-user-join.csv\", index=False)\n",
    "    df = df.sort_values(by=\"@timestamp\")\n",
    "    df['user_count'] = [len(df_users[df_users['@timestamp'] <= ts]) for ts in df['@timestamp']]\n",
    "    df.to_csv(f\"dfs_final/{index_list_names[i]}.csv\", index=False)"
   ]
  }
 ],
 "metadata": {
  "kernelspec": {
   "display_name": "Python 3",
   "language": "python",
   "name": "python3"
  },
  "language_info": {
   "codemirror_mode": {
    "name": "ipython",
    "version": 3
   },
   "file_extension": ".py",
   "mimetype": "text/x-python",
   "name": "python",
   "nbconvert_exporter": "python",
   "pygments_lexer": "ipython3",
   "version": "3.10.11"
  }
 },
 "nbformat": 4,
 "nbformat_minor": 2
}
