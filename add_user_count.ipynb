{
 "cells": [
  {
   "cell_type": "code",
   "execution_count": 1,
   "metadata": {},
   "outputs": [],
   "source": [
    "import pandas as pd"
   ]
  },
  {
   "cell_type": "code",
   "execution_count": 5,
   "metadata": {},
   "outputs": [],
   "source": [
    "index = \"loadtest-webrtc-final-kurento-3p-40s-t3medium-retry\"\n",
    "df = pd.read_csv(f\"dfs_final/{index}.csv\")\n",
    "df_users = pd.read_csv(f\"dfs_final/{index}-user-join.csv\")\n",
    "\n",
    "df[\"@timestamp\"] = pd.to_datetime(df[\"@timestamp\"])\n",
    "df_users[\"@timestamp\"] = pd.to_datetime(df_users[\"@timestamp\"])\n",
    "df_users = df_users.sort_values(by=\"@timestamp\")\n",
    "df = df.sort_values(by=\"@timestamp\")\n",
    "df['user_count'] = [len(df_users[df_users['@timestamp'] <= ts]) for ts in df['@timestamp']]\n",
    "df.to_csv(f\"dfs_final/{index}.csv\", index=False)"
   ]
  }
 ],
 "metadata": {
  "kernelspec": {
   "display_name": "Python 3",
   "language": "python",
   "name": "python3"
  },
  "language_info": {
   "codemirror_mode": {
    "name": "ipython",
    "version": 3
   },
   "file_extension": ".py",
   "mimetype": "text/x-python",
   "name": "python",
   "nbconvert_exporter": "python",
   "pygments_lexer": "ipython3",
   "version": "3.12.0"
  }
 },
 "nbformat": 4,
 "nbformat_minor": 2
}
