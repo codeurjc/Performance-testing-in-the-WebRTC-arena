{
 "cells": [
  {
   "cell_type": "code",
   "execution_count": 36,
   "metadata": {},
   "outputs": [],
   "source": [
    "import pandas as pd"
   ]
  },
  {
   "cell_type": "code",
   "execution_count": 37,
   "metadata": {},
   "outputs": [],
   "source": [
    "index_kurento_names = [\n",
    "    \"loadtest-webrtc-final-kurento-2p-t3medium-retry\",\n",
    "    \"loadtest-webrtc-final-kurento-8p-t3medium-retry\",\n",
    "    \"loadtest-webrtc-final-kurento-3p-10s-t3medium-retry\",\n",
    "    \"loadtest-webrtc-final-kurento-3p-40s-t3medium-retry\",\n",
    "]\n",
    "\n",
    "index_mediasoup_names = [\n",
    "    \"loadtest-webrtc-final-mediasoup-2p-t3medium-retry-2\",\n",
    "    \"loadtest-webrtc-final-mediasoup-8p-t3medium-retry-2\",\n",
    "    # \"loadtest-webrtc-final-mediasoup-3p-10s-t3medium-retry-2\",\n",
    "    # \"loadtest-webrtc-final-mediasoup-3p-40s-t3medium-retry-2\",\n",
    "]\n",
    "\n",
    "index_livekit_names = [\n",
    "    \"loadtest-webrtc-final-livekit-2p-t3medium-retry\",\n",
    "    \"loadtest-webrtc-final-livekit-8p-t3medium-retry\",\n",
    "    \"loadtest-webrtc-final-livekit-3p-10s-t3medium-retry\",\n",
    "    \"loadtest-webrtc-final-livekit-3p-40s-t3medium-retry\",\n",
    "]\n",
    "\n",
    "index_list_names = index_kurento_names + index_mediasoup_names + index_livekit_names"
   ]
  },
  {
   "cell_type": "code",
   "execution_count": 40,
   "metadata": {},
   "outputs": [],
   "source": [
    "import functools\n",
    "for index in index_list_names:\n",
    "    df_users = pd.read_csv(f\"dfs_final/{index}-user-join.csv\")\n",
    "    df_users[\"@timestamp\"] = pd.to_datetime(df_users[\"@timestamp\"], format='ISO8601')\n",
    "    df_users = df_users.sort_values(by=\"@timestamp\")\n",
    "    # add empty int streams column\n",
    "    df_users[\"streams_in\"] = 0\n",
    "    df_users[\"streams_out\"] = 0\n",
    "    df_users[\"publishers\"] = 0\n",
    "    df_users[\"subscribers\"] = 0\n",
    "    users_in_session = {}\n",
    "    prev_streams_in = 0\n",
    "    prev_streams_out = 0\n",
    "    for i, row in df_users.iterrows():\n",
    "        if row[\"session\"] not in users_in_session:\n",
    "            users_in_session[row[\"session\"]] = {\n",
    "                \"publishers\": 0,\n",
    "                \"subscribers\": 0,\n",
    "            }\n",
    "        is_publisher = (\"-2p-\" in index) or (\"-8p-\" in index) or (int(row[\"participant\"].replace('User', '')) <= 3)\n",
    "        if is_publisher:\n",
    "            users_in_session[row[\"session\"]][\"publishers\"] += 1\n",
    "            publishers = users_in_session[row[\"session\"]][\"publishers\"]\n",
    "            subscribers = users_in_session[row[\"session\"]][\"subscribers\"]\n",
    "            streams_in = 2 + prev_streams_in\n",
    "            streams_out = 2 * publishers * (publishers - 1) + 2 * subscribers + prev_streams_out\n",
    "        else:\n",
    "            users_in_session[row[\"session\"]][\"subscribers\"] += 1\n",
    "            publishers = users_in_session[row[\"session\"]][\"publishers\"]\n",
    "            subscribers = users_in_session[row[\"session\"]][\"subscribers\"]\n",
    "            streams_in = prev_streams_in\n",
    "            streams_out = 2 * publishers + prev_streams_out\n",
    "        df_users.at[i, \"streams_in\"] = streams_in\n",
    "        df_users.at[i, \"streams_out\"] = streams_out\n",
    "        df_users.at[i, \"publishers\"] = functools.reduce(lambda a, b: a + b, [users_in_session[session][\"publishers\"] for session in users_in_session])\n",
    "        df_users.at[i, \"subscribers\"] = functools.reduce(lambda a, b: a + b, [users_in_session[session][\"subscribers\"] for session in users_in_session])\n",
    "        prev_streams_in = streams_in\n",
    "        prev_streams_out = streams_out\n",
    "    df_users.to_csv(f\"dfs_final/{index}-user-join.csv\", index=False)"
   ]
  },
  {
   "cell_type": "code",
   "execution_count": 26,
   "metadata": {},
   "outputs": [],
   "source": [
    "for index in index_list_names:\n",
    "    df = pd.read_csv(f\"dfs_final/{index}.csv\")\n",
    "    df_users = pd.read_csv(f\"dfs_final/{index}-user-join.csv\")\n",
    "    df_users[\"@timestamp\"] = pd.to_datetime(df_users[\"@timestamp\"], format='ISO8601')\n",
    "    df_users = df_users.sort_values(by=\"@timestamp\")\n",
    "    df = df.sort_values(by=\"@timestamp\")\n",
    "    for ts in df['@timestamp']:\n",
    "        users_at_time = df_users[df_users['@timestamp'] <= ts]\n",
    "        streams = 0\n",
    "        # get all different sessions in users_at_time\n",
    "        sessions = users_at_time['session'].unique()\n",
    "        for session in sessions:\n",
    "            users = users_at_time[users_at_time['session'] == session]\n",
    "            if (\"-2p-\" in index) or (\"-8p-\" in index):\n",
    "                n_users_in_session = len(users)\n",
    "                streams += 2 * n_users_in_session * (n_users_in_session - 1)\n",
    "            else:\n",
    "                # participants have a name like User1, User2, etc\n",
    "                # remove the User part and keep the number\n",
    "                participant_numbers = users['participant'].str.replace('User', '').astype(int)\n",
    "                publishers = len(participant_numbers[participant_numbers <= 3])\n",
    "                subscribers = len(participant_numbers[participant_numbers > 3])\n",
    "                streams += 2 * publishers * (publishers - 1) + subscribers * publishers\n",
    "        df.loc[df['@timestamp'] == ts, 'streams'] = streams\n",
    "    # df[\"streams\"] should be integer\n",
    "    df[\"streams\"] = df[\"streams\"].astype(int)\n",
    "    df.to_csv(f\"dfs_final/{index}.csv\", index=False)\n",
    "\n",
    "    \n",
    "    "
   ]
  }
 ],
 "metadata": {
  "kernelspec": {
   "display_name": "Python 3",
   "language": "python",
   "name": "python3"
  },
  "language_info": {
   "codemirror_mode": {
    "name": "ipython",
    "version": 3
   },
   "file_extension": ".py",
   "mimetype": "text/x-python",
   "name": "python",
   "nbconvert_exporter": "python",
   "pygments_lexer": "ipython3",
   "version": "3.12.0"
  }
 },
 "nbformat": 4,
 "nbformat_minor": 2
}
