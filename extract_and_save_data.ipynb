{
 "cells": [
  {
   "cell_type": "code",
   "execution_count": 1,
   "metadata": {},
   "outputs": [],
   "source": [
    "import pandas as pd\n",
    "from elasticsearch import Elasticsearch\n",
    "from elasticsearch.helpers import scan\n",
    "from dotenv import load_dotenv\n",
    "import os\n",
    "import matplotlib.pyplot as plt\n",
    "\n",
    "load_dotenv()\n",
    "\n",
    "ELK_HOST = os.getenv(\"ELK_HOST\")\n",
    "\n",
    "es = Elasticsearch(hosts=[ELK_HOST])"
   ]
  },
  {
   "cell_type": "code",
   "execution_count": 2,
   "metadata": {},
   "outputs": [],
   "source": [
    "index_list = [\n",
    "    \"loadtest-webrtc-preliminary-mediasoup-2p-t3medium-final\", \"loadtest-webrtc-preliminary-mediasoup-2p-c5xlarge-final\",\n",
    "    \"loadtest-webrtc-preliminary-mediasoup-5p-t3medium-final\", \"loadtest-webrtc-preliminary-mediasoup-5p-c5xlarge-final\",\n",
    "    \"loadtest-webrtc-preliminary-mediasoup-6p-t3medium-final\", \"loadtest-webrtc-preliminary-mediasoup-6p-c5xlarge-final\",\n",
    "    \"loadtest-webrtc-preliminary-mediasoup-7p-t3medium-final\", \"loadtest-webrtc-preliminary-mediasoup-7p-c5xlarge-final\",\n",
    "    \"loadtest-webrtc-preliminary-mediasoup-8p-t3medium-final\", \"loadtest-webrtc-preliminary-mediasoup-8p-c5xlarge-final\",\n",
    "    \"loadtest-webrtc-preliminary-mediasoup-10p-t3medium-final\", \"loadtest-webrtc-preliminary-mediasoup-10p-c5xlarge-final\",\n",
    "    \"loadtest-webrtc-preliminary-mediasoup-3p-10s-t3medium-final\", \"loadtest-webrtc-preliminary-mediasoup-3p-10s-c5xlarge-final\",\n",
    "    \"loadtest-webrtc-preliminary-mediasoup-3p-40s-t3medium-final\", \"loadtest-webrtc-preliminary-mediasoup-3p-40s-c5xlarge-final\"\n",
    "]\n",
    "\n",
    "def get_data_from_elastic(index):\n",
    "    # query: The elasticsearch query.\n",
    "    query = {\n",
    "        \"query\": {\n",
    "            \"exists\": {\n",
    "                \"field\": \"vmaf\"\n",
    "            }\n",
    "        }\n",
    "    }\n",
    "    # Scan function to get all the data. \n",
    "    rel = scan(client=es,             \n",
    "               query=query,                                     \n",
    "               scroll='1m',\n",
    "               index=index,\n",
    "               raise_on_error=True,\n",
    "               preserve_order=False,\n",
    "               clear_scroll=True)\n",
    "    # Keep response in a list.\n",
    "    result = list(rel)\n",
    "    temp = []\n",
    "    # We need only '_source', which has all the fields required.\n",
    "    # This elimantes the elasticsearch metdata like _id, _type, _index.\n",
    "    for hit in result:\n",
    "        temp.append(hit['_source'])\n",
    "    # Create a dataframe.\n",
    "    df = pd.DataFrame(temp)\n",
    "    return df"
   ]
  },
  {
   "cell_type": "code",
   "execution_count": 3,
   "metadata": {},
   "outputs": [],
   "source": [
    "df_list = list(map(get_data_from_elastic, index_list))"
   ]
  },
  {
   "cell_type": "code",
   "execution_count": 5,
   "metadata": {},
   "outputs": [],
   "source": [
    "os.makedirs(\"dfs\", exist_ok=True)\n",
    "for i, df in enumerate(df_list):\n",
    "    if not df.empty:\n",
    "        df.to_csv(f\"dfs/{index_list[i]}.csv\", index=False)"
   ]
  }
 ],
 "metadata": {
  "kernelspec": {
   "display_name": "Python 3",
   "language": "python",
   "name": "python3"
  },
  "language_info": {
   "codemirror_mode": {
    "name": "ipython",
    "version": 3
   },
   "file_extension": ".py",
   "mimetype": "text/x-python",
   "name": "python",
   "nbconvert_exporter": "python",
   "pygments_lexer": "ipython3",
   "version": "3.7.3"
  },
  "orig_nbformat": 4
 },
 "nbformat": 4,
 "nbformat_minor": 2
}
